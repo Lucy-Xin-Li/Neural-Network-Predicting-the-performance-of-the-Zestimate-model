{
 "cells": [
  {
   "cell_type": "markdown",
   "metadata": {},
   "source": [
    "# Predicting the performance of the Zestimate model\n",
    "\n",
    "As most of you know, Zillow has become a major force in real estate. Their model \"Zestimate\" aims to predict housing prices based on a variety of features. In this dataset of many properties in southern California, they provide how well the model predicted house prices. Specifically, they calculated the (log) error between their model estimate and the actual price given by:\n",
    "\n",
    "$logerror = log(Zestimate) - log(actual)$\n",
    "\n",
    "This means that if the logerror was greater than 0, the Zestimate overestimated the actual prices, and if it was less than 0 the Zestimate underestimated the price. The goal of this project is to write a neural network that will predict whether the Zestimate will over or underpredict the price given features of other houses. "
   ]
  },
  {
   "cell_type": "code",
   "execution_count": 5,
   "metadata": {},
   "outputs": [],
   "source": [
    "%matplotlib inline"
   ]
  },
  {
   "cell_type": "code",
   "execution_count": 6,
   "metadata": {},
   "outputs": [],
   "source": [
    "# add more imports as you need\n",
    "import os\n",
    "import sys\n",
    "import pandas as pd\n",
    "import matplotlib.pyplot as plt\n",
    "import numpy as np\n",
    "import sklearn.model_selection as ms\n",
    "from keras.models import Sequential\n",
    "from keras.layers import Dense\n",
    "from keras.optimizers import SGD  \n",
    "from keras.utils import to_categorical\n",
    "from sklearn.metrics import accuracy_score"
   ]
  },
  {
   "cell_type": "code",
   "execution_count": 7,
   "metadata": {},
   "outputs": [],
   "source": [
    "# set the paths for your system\n",
    "\n",
    "data_dir ='/Users/xli/'"
   ]
  },
  {
   "cell_type": "markdown",
   "metadata": {},
   "source": [
    "## Pandas data I/O\n",
    "\n",
    "Unfortunately, in this session we don't have the time to go over the pandas module, but suffice it to say that it is a very popular package for managing data. We will use pandas.read_csv() to bring in the data. For those of you familiar with R, pandas uses DataFrames as well. \n",
    "\n",
    "Pandas usually comes default with Anaconda. If you don't have it, you can install it using the following:\n",
    "\n",
    "`conda install pandas`\n",
    "\n",
    "or\n",
    "\n",
    "`pip install pandas`\n",
    "\n",
    "We provide the function call for loading in the data below. It is the bare-bones function call because I have already cleaned the data for you.\n"
   ]
  },
  {
   "cell_type": "code",
   "execution_count": 8,
   "metadata": {},
   "outputs": [],
   "source": [
    "train_df = pd.read_csv(os.path.join(data_dir, \"final_project_data.csv\"))"
   ]
  },
  {
   "cell_type": "code",
   "execution_count": 9,
   "metadata": {},
   "outputs": [
    {
     "data": {
      "text/html": [
       "<div>\n",
       "<style scoped>\n",
       "    .dataframe tbody tr th:only-of-type {\n",
       "        vertical-align: middle;\n",
       "    }\n",
       "\n",
       "    .dataframe tbody tr th {\n",
       "        vertical-align: top;\n",
       "    }\n",
       "\n",
       "    .dataframe thead th {\n",
       "        text-align: right;\n",
       "    }\n",
       "</style>\n",
       "<table border=\"1\" class=\"dataframe\">\n",
       "  <thead>\n",
       "    <tr style=\"text-align: right;\">\n",
       "      <th></th>\n",
       "      <th>parcelid</th>\n",
       "      <th>bathroomcnt</th>\n",
       "      <th>bedroomcnt</th>\n",
       "      <th>calculatedbathnbr</th>\n",
       "      <th>calculatedfinishedsquarefeet</th>\n",
       "      <th>finishedsquarefeet12</th>\n",
       "      <th>fips</th>\n",
       "      <th>fullbathcnt</th>\n",
       "      <th>latitude</th>\n",
       "      <th>longitude</th>\n",
       "      <th>...</th>\n",
       "      <th>regionidcounty</th>\n",
       "      <th>regionidzip</th>\n",
       "      <th>roomcnt</th>\n",
       "      <th>yearbuilt</th>\n",
       "      <th>structuretaxvaluedollarcnt</th>\n",
       "      <th>taxvaluedollarcnt</th>\n",
       "      <th>landtaxvaluedollarcnt</th>\n",
       "      <th>taxamount</th>\n",
       "      <th>censustractandblock</th>\n",
       "      <th>logerror</th>\n",
       "    </tr>\n",
       "  </thead>\n",
       "  <tbody>\n",
       "    <tr>\n",
       "      <th>0</th>\n",
       "      <td>10711738</td>\n",
       "      <td>3.0</td>\n",
       "      <td>4.0</td>\n",
       "      <td>3.0</td>\n",
       "      <td>2538.0</td>\n",
       "      <td>2538.0</td>\n",
       "      <td>6037.0</td>\n",
       "      <td>3.0</td>\n",
       "      <td>34220381.0</td>\n",
       "      <td>-118620802.0</td>\n",
       "      <td>...</td>\n",
       "      <td>3101.0</td>\n",
       "      <td>96339.0</td>\n",
       "      <td>0.0</td>\n",
       "      <td>1978.0</td>\n",
       "      <td>245180.0</td>\n",
       "      <td>567112.0</td>\n",
       "      <td>321932.0</td>\n",
       "      <td>7219.18</td>\n",
       "      <td>6.037113e+13</td>\n",
       "      <td>0.0276</td>\n",
       "    </tr>\n",
       "    <tr>\n",
       "      <th>1</th>\n",
       "      <td>10711755</td>\n",
       "      <td>3.0</td>\n",
       "      <td>3.0</td>\n",
       "      <td>3.0</td>\n",
       "      <td>1589.0</td>\n",
       "      <td>1589.0</td>\n",
       "      <td>6037.0</td>\n",
       "      <td>3.0</td>\n",
       "      <td>34222040.0</td>\n",
       "      <td>-118622240.0</td>\n",
       "      <td>...</td>\n",
       "      <td>3101.0</td>\n",
       "      <td>96339.0</td>\n",
       "      <td>0.0</td>\n",
       "      <td>1959.0</td>\n",
       "      <td>254691.0</td>\n",
       "      <td>459844.0</td>\n",
       "      <td>205153.0</td>\n",
       "      <td>6901.09</td>\n",
       "      <td>6.037113e+13</td>\n",
       "      <td>-0.0182</td>\n",
       "    </tr>\n",
       "    <tr>\n",
       "      <th>2</th>\n",
       "      <td>10711805</td>\n",
       "      <td>2.0</td>\n",
       "      <td>3.0</td>\n",
       "      <td>2.0</td>\n",
       "      <td>2411.0</td>\n",
       "      <td>2411.0</td>\n",
       "      <td>6037.0</td>\n",
       "      <td>2.0</td>\n",
       "      <td>34220427.0</td>\n",
       "      <td>-118618549.0</td>\n",
       "      <td>...</td>\n",
       "      <td>3101.0</td>\n",
       "      <td>96339.0</td>\n",
       "      <td>0.0</td>\n",
       "      <td>1973.0</td>\n",
       "      <td>235114.0</td>\n",
       "      <td>384787.0</td>\n",
       "      <td>149673.0</td>\n",
       "      <td>4876.61</td>\n",
       "      <td>6.037113e+13</td>\n",
       "      <td>-0.1009</td>\n",
       "    </tr>\n",
       "    <tr>\n",
       "      <th>3</th>\n",
       "      <td>10711816</td>\n",
       "      <td>2.0</td>\n",
       "      <td>4.0</td>\n",
       "      <td>2.0</td>\n",
       "      <td>2232.0</td>\n",
       "      <td>2232.0</td>\n",
       "      <td>6037.0</td>\n",
       "      <td>2.0</td>\n",
       "      <td>34222390.0</td>\n",
       "      <td>-118618631.0</td>\n",
       "      <td>...</td>\n",
       "      <td>3101.0</td>\n",
       "      <td>96339.0</td>\n",
       "      <td>0.0</td>\n",
       "      <td>1973.0</td>\n",
       "      <td>262309.0</td>\n",
       "      <td>437176.0</td>\n",
       "      <td>174867.0</td>\n",
       "      <td>5560.07</td>\n",
       "      <td>6.037113e+13</td>\n",
       "      <td>-0.0121</td>\n",
       "    </tr>\n",
       "    <tr>\n",
       "      <th>4</th>\n",
       "      <td>10711858</td>\n",
       "      <td>2.0</td>\n",
       "      <td>4.0</td>\n",
       "      <td>2.0</td>\n",
       "      <td>1882.0</td>\n",
       "      <td>1882.0</td>\n",
       "      <td>6037.0</td>\n",
       "      <td>2.0</td>\n",
       "      <td>34222544.0</td>\n",
       "      <td>-118617961.0</td>\n",
       "      <td>...</td>\n",
       "      <td>3101.0</td>\n",
       "      <td>96339.0</td>\n",
       "      <td>0.0</td>\n",
       "      <td>1973.0</td>\n",
       "      <td>232037.0</td>\n",
       "      <td>382055.0</td>\n",
       "      <td>150018.0</td>\n",
       "      <td>4878.25</td>\n",
       "      <td>6.037113e+13</td>\n",
       "      <td>-0.0481</td>\n",
       "    </tr>\n",
       "  </tbody>\n",
       "</table>\n",
       "<p>5 rows × 23 columns</p>\n",
       "</div>"
      ],
      "text/plain": [
       "   parcelid  bathroomcnt  bedroomcnt  calculatedbathnbr  \\\n",
       "0  10711738          3.0         4.0                3.0   \n",
       "1  10711755          3.0         3.0                3.0   \n",
       "2  10711805          2.0         3.0                2.0   \n",
       "3  10711816          2.0         4.0                2.0   \n",
       "4  10711858          2.0         4.0                2.0   \n",
       "\n",
       "   calculatedfinishedsquarefeet  finishedsquarefeet12    fips  fullbathcnt  \\\n",
       "0                        2538.0                2538.0  6037.0          3.0   \n",
       "1                        1589.0                1589.0  6037.0          3.0   \n",
       "2                        2411.0                2411.0  6037.0          2.0   \n",
       "3                        2232.0                2232.0  6037.0          2.0   \n",
       "4                        1882.0                1882.0  6037.0          2.0   \n",
       "\n",
       "     latitude    longitude    ...     regionidcounty  regionidzip  roomcnt  \\\n",
       "0  34220381.0 -118620802.0    ...             3101.0      96339.0      0.0   \n",
       "1  34222040.0 -118622240.0    ...             3101.0      96339.0      0.0   \n",
       "2  34220427.0 -118618549.0    ...             3101.0      96339.0      0.0   \n",
       "3  34222390.0 -118618631.0    ...             3101.0      96339.0      0.0   \n",
       "4  34222544.0 -118617961.0    ...             3101.0      96339.0      0.0   \n",
       "\n",
       "   yearbuilt  structuretaxvaluedollarcnt  taxvaluedollarcnt  \\\n",
       "0     1978.0                    245180.0           567112.0   \n",
       "1     1959.0                    254691.0           459844.0   \n",
       "2     1973.0                    235114.0           384787.0   \n",
       "3     1973.0                    262309.0           437176.0   \n",
       "4     1973.0                    232037.0           382055.0   \n",
       "\n",
       "   landtaxvaluedollarcnt  taxamount  censustractandblock  logerror  \n",
       "0               321932.0    7219.18         6.037113e+13    0.0276  \n",
       "1               205153.0    6901.09         6.037113e+13   -0.0182  \n",
       "2               149673.0    4876.61         6.037113e+13   -0.1009  \n",
       "3               174867.0    5560.07         6.037113e+13   -0.0121  \n",
       "4               150018.0    4878.25         6.037113e+13   -0.0481  \n",
       "\n",
       "[5 rows x 23 columns]"
      ]
     },
     "execution_count": 9,
     "metadata": {},
     "output_type": "execute_result"
    }
   ],
   "source": [
    "# We can very quickly look at the data using the following:\n",
    "train_df.head()"
   ]
  },
  {
   "cell_type": "markdown",
   "metadata": {},
   "source": [
    "As mentioned before, we are simply interested in whether the Zestimate over or under-estimated the actual price. So we \"binarize\" our labels below by converting positive numbers to 1 and negative numbers to 0."
   ]
  },
  {
   "cell_type": "code",
   "execution_count": 10,
   "metadata": {},
   "outputs": [],
   "source": [
    "train_df[\"labels\"]= train_df[\"logerror\"].apply(lambda x: ( np.sign(x) +1) / 2 ) \n",
    "train_df = train_df.drop(\"logerror\", axis=1)  # VERY important-- you'll probably get perfect classification if you forget to remove this"
   ]
  },
  {
   "cell_type": "code",
   "execution_count": 11,
   "metadata": {},
   "outputs": [],
   "source": [
    "train_df_1=train_df.drop(\"parcelid\",axis=1)\n",
    "X = np.array(train_df_1.drop(\"labels\",axis=1))  # our data is everything except the labels\n",
    "y = train_df[\"labels\"]  # our labels"
   ]
  },
  {
   "cell_type": "code",
   "execution_count": 12,
   "metadata": {},
   "outputs": [],
   "source": [
    "y_vectorized = to_categorical(y)"
   ]
  },
  {
   "cell_type": "markdown",
   "metadata": {},
   "source": [
    "You now have a dataset with which you can train your model. Specifically, you are trying to predict y based on X using a neural network with one or more hidden layers with an architecture of your choosing. Please use the tools from the previous exercises to export a Keras model \"ZillowPredictor.h5\" that predicts whether the Zestimate over or underestimates actual housing prices."
   ]
  },
  {
   "cell_type": "markdown",
   "metadata": {
    "collapsed": true
   },
   "source": [
    "## Model"
   ]
  },
  {
   "cell_type": "code",
   "execution_count": 13,
   "metadata": {},
   "outputs": [],
   "source": [
    "# Projecting the data to a lower dimension.\n",
    "model1_layer_sizes = [X.shape[1],10,y_vectorized.shape[1]]"
   ]
  },
  {
   "cell_type": "code",
   "execution_count": 14,
   "metadata": {},
   "outputs": [],
   "source": [
    "def build_model1(): \n",
    "    model = Sequential()\n",
    "\n",
    "    model.add(Dense(input_dim=model1_layer_sizes[0],\n",
    "                    units=model1_layer_sizes[1],\n",
    "                    kernel_initializer=\"uniform\",\n",
    "                    activation=\"relu\"))\n",
    "    \n",
    "  \n",
    "    model.add(Dense(units=model1_layer_sizes[-1], # last layer\n",
    "                    kernel_initializer='uniform',\n",
    "                    activation=\"softmax\"))\n",
    "    \n",
    "    sgd = SGD(lr=0.001, decay=1e-7, momentum=.9)  \n",
    "    model.compile(loss='categorical_crossentropy', optimizer=sgd, metrics=[\"accuracy\"])  \n",
    "   \n",
    "    return model"
   ]
  },
  {
   "cell_type": "code",
   "execution_count": 15,
   "metadata": {},
   "outputs": [],
   "source": [
    "# Projecting the data to a higher dimension.\n",
    "model2_layer_sizes = [X.shape[1],300,y_vectorized.shape[1]]"
   ]
  },
  {
   "cell_type": "code",
   "execution_count": 16,
   "metadata": {},
   "outputs": [],
   "source": [
    "def build_model2(): \n",
    "    model = Sequential()\n",
    "\n",
    "    model.add(Dense(input_dim=model2_layer_sizes[0],\n",
    "                    units=model1_layer_sizes[1],\n",
    "                    kernel_initializer=\"uniform\",\n",
    "                    activation=\"relu\"))\n",
    "    \n",
    "  \n",
    "    model.add(Dense(units=model2_layer_sizes[-1], # last layer\n",
    "                    kernel_initializer='uniform',\n",
    "                    activation=\"softmax\"))\n",
    "    \n",
    "    sgd = SGD(lr=0.001, decay=1e-7, momentum=.9)  \n",
    "    model.compile(loss='categorical_crossentropy', optimizer=sgd, metrics=[\"accuracy\"])  \n",
    "   \n",
    "    return model"
   ]
  },
  {
   "cell_type": "markdown",
   "metadata": {
    "collapsed": true
   },
   "source": [
    "## Cross Validation for above two models"
   ]
  },
  {
   "cell_type": "code",
   "execution_count": 17,
   "metadata": {},
   "outputs": [],
   "source": [
    "# define kfold here:\n",
    "k=2\n",
    "kf = ms.KFold(k, shuffle=True)"
   ]
  },
  {
   "cell_type": "markdown",
   "metadata": {},
   "source": [
    "### Model 1"
   ]
  },
  {
   "cell_type": "code",
   "execution_count": 18,
   "metadata": {},
   "outputs": [
    {
     "name": "stdout",
     "output_type": "stream",
     "text": [
      "0.5018074550805204\n"
     ]
    }
   ],
   "source": [
    "accuracies = []\n",
    "\n",
    "for  train_idx, val_idx in kf.split(X):\n",
    "    \n",
    "    model1 = build_model1()\n",
    "    \n",
    "    model1.fit(X[train_idx],y_vectorized[train_idx],epochs=500,batch_size=10,verbose=0) \n",
    "    \n",
    "    proba = model1.predict_proba(X[val_idx], batch_size=32)\n",
    "    classes = np.argmax(proba, axis=1)\n",
    "    \n",
    "    accuracies.append(accuracy_score(y[val_idx], classes))\n",
    "\n",
    "\n",
    "model1_accuracy = np.array(accuracies).mean()\n",
    "print(model1_accuracy)"
   ]
  },
  {
   "cell_type": "markdown",
   "metadata": {},
   "source": [
    "### Model 2"
   ]
  },
  {
   "cell_type": "code",
   "execution_count": 19,
   "metadata": {},
   "outputs": [
    {
     "name": "stdout",
     "output_type": "stream",
     "text": [
      "0.5000793145524403\n"
     ]
    }
   ],
   "source": [
    "accuracies = []\n",
    "\n",
    "for  train_idx, val_idx in kf.split(X):\n",
    "    \n",
    "    model2 = build_model2()\n",
    "    \n",
    "    model2.fit(X[train_idx],y_vectorized[train_idx],epochs=500,batch_size=10,verbose=0) \n",
    "    \n",
    "    proba = model2.predict_proba(X[val_idx], batch_size=32)\n",
    "    classes = np.argmax(proba, axis=1)\n",
    "    \n",
    "    accuracies.append(accuracy_score(y[val_idx], classes))\n",
    "\n",
    "\n",
    "model2_accuracy = np.array(accuracies).mean()\n",
    "print(model2_accuracy)"
   ]
  },
  {
   "cell_type": "markdown",
   "metadata": {},
   "source": [
    "## A Model with Regularization"
   ]
  },
  {
   "cell_type": "code",
   "execution_count": 26,
   "metadata": {},
   "outputs": [],
   "source": [
    "#Adding alpha=1e-4\n",
    "from sklearn.neural_network import MLPClassifier\n",
    "model3=MLPClassifier(activation='relu',solver='lbfgs', alpha=1e-4, hidden_layer_sizes=(300,), random_state=1,max_iter=500,batch_size=10,verbose=0)"
   ]
  },
  {
   "cell_type": "markdown",
   "metadata": {},
   "source": [
    "## Cross Validation for Regularized models"
   ]
  },
  {
   "cell_type": "code",
   "execution_count": 27,
   "metadata": {},
   "outputs": [
    {
     "name": "stdout",
     "output_type": "stream",
     "text": [
      "0.4421934952441695\n"
     ]
    }
   ],
   "source": [
    "\n",
    "accuracies = []\n",
    "\n",
    "for  train_idx, val_idx in kf.split(X):\n",
    "    \n",
    "    model3.fit(X[train_idx],y_vectorized[train_idx]) \n",
    "    \n",
    "    proba = model3.predict_proba(X[val_idx])\n",
    "    classes = np.argmax(proba, axis=1)\n",
    "    \n",
    "    accuracies.append(accuracy_score(y[val_idx], classes))\n",
    "\n",
    "\n",
    "model3_accuracy = np.array(accuracies).mean()\n",
    "print(model3_accuracy)"
   ]
  },
  {
   "cell_type": "markdown",
   "metadata": {
    "collapsed": true
   },
   "source": [
    "# Summary\n",
    "The first model is a one hidden layer model with 10 neurons which will project the data to a lower dimension to find out a classifier. The second model is a one hidden layer model with 300 neurons which will project the data to a higher dimension and might lead to overfitting problem and bad result on the testing set. The third model is the second model adding regularization which can penalize the overfitting problem."
   ]
  }
 ],
 "metadata": {
  "kernelspec": {
   "display_name": "Python 3",
   "language": "python",
   "name": "python3"
  },
  "language_info": {
   "codemirror_mode": {
    "name": "ipython",
    "version": 3
   },
   "file_extension": ".py",
   "mimetype": "text/x-python",
   "name": "python",
   "nbconvert_exporter": "python",
   "pygments_lexer": "ipython3",
   "version": "3.6.5"
  }
 },
 "nbformat": 4,
 "nbformat_minor": 2
}
